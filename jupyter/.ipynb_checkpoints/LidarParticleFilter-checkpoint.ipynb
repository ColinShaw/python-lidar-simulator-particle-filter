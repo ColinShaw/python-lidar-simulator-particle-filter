{
 "cells": [
  {
   "cell_type": "markdown",
   "metadata": {},
   "source": [
    "# Lidar Particle Filter"
   ]
  },
  {
   "cell_type": "markdown",
   "metadata": {},
   "source": [
    "First we will draw some features of a map.  These are essentially a sparse collection of points representing, say, walls in a room and other static obstacles in the room.  Basically we just want to make a collection of points that define a map of our known universe.  Since one simple thing to mimic is a room with straight walls and periodic known points on the boundary, let's use some helpers to generate these and then extend it to work with rectangles in general. This way we can fairly easily generate a collection of points that is representative of, say, a room with some simple objects like furniture in it.  While in the real world the map may have ambiguity (noise) associated with the known points, for the moment we will work on localizing with perfectly known points."
   ]
  },
  {
   "cell_type": "code",
   "execution_count": 2,
   "metadata": {
    "collapsed": false
   },
   "outputs": [
    {
     "data": {
      "image/png": "[encoded data removed]",
      "text/plain": [
       "<matplotlib.figure.Figure at 0x7f3b74006f28>"
      ]
     },
     "metadata": {},
     "output_type": "display_data"
    }
   ],
   "source": [
    "import math\n",
    "import numpy as np\n",
    "import matplotlib.pyplot as plt\n",
    "%matplotlib inline\n",
    "\n",
    "plt.figure(figsize=(8,8))\n",
    "\n",
    "def map_range_x(start, stop, number, y):\n",
    "    return [[start + (stop - start) * i / number, y] for i in range(number + 1)]\n",
    "   \n",
    "def map_range_y(start, stop, number, x):\n",
    "    return [[x, start + (stop - start) * i / number] for i in range(number + 1)]\n",
    "    \n",
    "def map_square(top_left, bottom_right, points):\n",
    "    res  = map_range_y(top_left[1], bottom_right[1], points, top_left[0])\n",
    "    res += map_range_y(top_left[1], bottom_right[1], points, bottom_right[0])\n",
    "    res += map_range_x(top_left[0], bottom_right[0], points, top_left[1])\n",
    "    res += map_range_x(top_left[0], bottom_right[0], points, bottom_right[1])\n",
    "    return res\n",
    "    \n",
    "def make_room():\n",
    "    walls = map_square((1.,1.), (15.,15.), 20)\n",
    "    table = map_square((3.,8.), (6.,11.), 4)\n",
    "    chair = map_square((5.,6.), (6.,7.), 2)\n",
    "    return walls + table + chair\n",
    "\n",
    "def plot_object(obj, color, alpha, area):\n",
    "    x, y = zip(*obj)\n",
    "    areas = [area for i in obj]\n",
    "    plt.scatter(x, y, s=areas, c=color, alpha=alpha, edgecolor=None)\n",
    "\n",
    "room = make_room()\n",
    "plot_object(room, 'b', 1.0, 10)\n",
    "    \n",
    "plt.show()"
   ]
  },
  {
   "cell_type": "markdown",
   "metadata": {},
   "source": [
    "Next we will position a candidate observer in room and simulate a directional sweep of the room in the way that would generate something similar to what a lidar would produce.  This will result in data that is tuples of angle and distance.  Basically, this just finds the closest point to a line cast from the robot.  "
   ]
  },
  {
   "cell_type": "code",
   "execution_count": null,
   "metadata": {
    "collapsed": true
   },
   "outputs": [],
   "source": [
    "robot_location = (10.,10.)\n",
    "robot_angle = 0.2\n",
    "angle_sweep = 0.3\n",
    "\n",
    "def map_angle_range(angle, sweep, number):\n",
    "    return [[(angle - sweep) + 2 * sweep * i / number, y] for i in range(number + 1)]\n",
    "\n",
    "def line_points(point, angle):\n",
    "    p1 = point\n",
    "    p2 = point + cos(angle), point + sin(angle)\n",
    "    return p1, p2\n",
    "\n",
    "def line_point_distance(line, points):\n",
    "    p1 = line[0]\n",
    "    p2 = line[1]\n",
    "    \n",
    "    \n",
    "    \n",
    "angles = map_angle_range(robot_angle, angle_sweep, 20)\n",
    "lines = line_points(robot_location, angles)\n",
    "for i in room:\n",
    "    \n",
    "    "
   ]
  }
 ],
 "metadata": {
  "anaconda-cloud": {},
  "kernelspec": {
   "display_name": "Python [conda root]",
   "language": "python",
   "name": "conda-root-py"
  },
  "language_info": {
   "codemirror_mode": {
    "name": "ipython",
    "version": 3
   },
   "file_extension": ".py",
   "mimetype": "text/x-python",
   "name": "python",
   "nbconvert_exporter": "python",
   "pygments_lexer": "ipython3",
   "version": "3.5.2"
  }
 },
 "nbformat": 4,
 "nbformat_minor": 1
}
