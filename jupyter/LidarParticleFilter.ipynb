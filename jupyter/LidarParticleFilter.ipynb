{
 "cells": [
  {
   "cell_type": "markdown",
   "metadata": {},
   "source": [
    "# Lidar Particle Filter"
   ]
  },
  {
   "cell_type": "markdown",
   "metadata": {},
   "source": [
    "The purpose of this project is to look at modeling a lidar.  We will make an example map with however many known points we please, and we will simulate what a lidar would see if looking in the room.  We will be able to simulate the beam parameters, noise parameters, etc., and then use a partical filter to localize a robot in the room.  The goal is to better understand the interaction between the parameters and learn to select the right lidar setup for a real world task before coding it."
   ]
  },
  {
   "cell_type": "markdown",
   "metadata": {},
   "source": [
    "First, let's load the libs we need."
   ]
  },
  {
   "cell_type": "code",
   "execution_count": 1,
   "metadata": {
    "collapsed": true
   },
   "outputs": [],
   "source": [
    "import math\n",
    "import numpy as np\n",
    "from scipy.stats import multivariate_normal\n",
    "import matplotlib.pyplot as plt\n",
    "%matplotlib inline"
   ]
  },
  {
   "cell_type": "markdown",
   "metadata": {},
   "source": [
    "Next we will draw some features of a map.  These are essentially a sparse collection of points representing, say, walls in a room and other static obstacles in the room.  Basically we just want to make a collection of points that define a map of our known universe.  Since one simple thing to mimic is a room with straight walls and periodic known points on the boundary, let's use some helpers to generate these and then extend it to work with rectangles in general. This way we can fairly easily generate a collection of points that is representative of, say, a room with some simple objects like furniture in it.  While in the real world the map may have ambiguity (noise) associated with the known points, for the moment we will work on localizing with perfectly known points.  The location of our robot is depicted in green."
   ]
  },
  {
   "cell_type": "code",
   "execution_count": 2,
   "metadata": {
    "collapsed": false
   },
   "outputs": [
    {
     "data": {
      "image/png": "[encoded data removed]",
      "text/plain": [
       "<matplotlib.figure.Figure at 0x7fbfa4ea6c50>"
      ]
     },
     "metadata": {},
     "output_type": "display_data"
    }
   ],
   "source": [
    "class Room(object):\n",
    "\n",
    "    def map_range_x(self, start, stop, number, y):\n",
    "        return [[start + (stop - start) * i / number, y] for i in range(number + 1)]\n",
    "\n",
    "    def map_range_y(self, start, stop, number, x):\n",
    "        return [[x, start + (stop - start) * i / number] for i in range(number + 1)]\n",
    "\n",
    "    def map_square(self, top_left, bottom_right, points):\n",
    "        tl_x, tl_y = top_left\n",
    "        br_x, br_y = bottom_right\n",
    "        res  = self.map_range_y(tl_y, br_y, points, tl_x)\n",
    "        res += self.map_range_y(tl_y, br_y, points, br_x)\n",
    "        res += self.map_range_x(tl_x, br_x, points, tl_y)\n",
    "        res += self.map_range_x(tl_x, br_x, points, br_y)\n",
    "        return res\n",
    "\n",
    "    def make_room(self):\n",
    "        walls = self.map_square((1.0,1.0), (15.0,15.0), 100)\n",
    "        table = self.map_square((3.0,8.0), (6.0,11.0), 20)\n",
    "        chair1 = self.map_square((3.0,6.0), (4.0,7.0), 8)\n",
    "        chair2 = self.map_square((5.0,6.0), (6.0,7.0), 8)\n",
    "        return walls + table + chair1 + chair2\n",
    "\n",
    "\n",
    "# Set the plot size        \n",
    "plt.figure(figsize=(8,8))    \n",
    "    \n",
    "# Build the room map points\n",
    "r = Room()\n",
    "room = r.make_room()\n",
    "\n",
    "# Unzip the x-y coordinates\n",
    "x, y = zip(*room)\n",
    "\n",
    "# Plot the points\n",
    "plt.scatter(x, y)  \n",
    "\n",
    "# Plot where our robot is \n",
    "plt.scatter(10.0, 5.0, color='green')\n",
    "\n",
    "plt.show()"
   ]
  },
  {
   "cell_type": "markdown",
   "metadata": {},
   "source": [
    "Next we will position a candidate observer in room and simulate a directional sweep of the room in the way that would generate something similar to what a lidar would produce.  This will result in data that is tuples of angle and distance.  The way this is done is to first compute the distance and angle from the robot location to each point room point.  For each discrete angle in our simulated lidar sweep, we will find the points that are within that sweep and record the closest one.  It is not a particularly performant way of accomplishing the task, but it is adequate for working on the process.  We will also plot the distance points so that we can visualize what the lidar would appear as and confirm that it is sensible given the parameters we have set."
   ]
  },
  {
   "cell_type": "code",
   "execution_count": 3,
   "metadata": {
    "collapsed": false
   },
   "outputs": [
    {
     "data": {
      "image/png": "[encoded data removed]",
      "text/plain": [
       "<matplotlib.figure.Figure at 0x7fbf722a07f0>"
      ]
     },
     "metadata": {},
     "output_type": "display_data"
    }
   ],
   "source": [
    "class RoomView(object):\n",
    "\n",
    "    def __init__(self, points, angle_sweep, sweep_number):\n",
    "        self.points = points\n",
    "        self.angle_sweep = angle_sweep\n",
    "        self.sweep_number = sweep_number\n",
    "        \n",
    "    def angle_range(self, center):\n",
    "        delta = self.angle_sweep\n",
    "        n = self.sweep_number\n",
    "        return [(center - delta) + 2 * delta * i / n for i in range(2 * n + 1)]\n",
    "\n",
    "    def angle_and_distance(self, robot_location, point_location):\n",
    "        (rx, ry) = robot_location\n",
    "        (px, py) = point_location\n",
    "        dx = px - rx\n",
    "        dy = py - ry\n",
    "        distance = math.sqrt(dx**2 + dy**2)\n",
    "        angle = math.atan2(dy, dx)\n",
    "        return (angle, distance)\n",
    "\n",
    "    def closest_point_in_swath(self, min_angle, max_angle, robot_location):\n",
    "        pts = []\n",
    "        for p in self.points:\n",
    "            angle, distance = self.angle_and_distance(robot_location, p)\n",
    "            if angle > min_angle and angle < max_angle:\n",
    "                pts.append(distance)\n",
    "        pts = sorted(pts)\n",
    "        if len(pts) > 0:\n",
    "            return pts[0]\n",
    "        return None\n",
    "\n",
    "    def lidar_points(self, robot_location, robot_angle):\n",
    "        pts = []\n",
    "        angles = self.angle_range(robot_angle)\n",
    "        delta = 2 * self.angle_sweep / self.sweep_number\n",
    "        for a in angles:\n",
    "            min_a = a - delta\n",
    "            max_a = a + delta\n",
    "            distance = self.closest_point_in_swath(min_a, max_a, robot_location)\n",
    "            if distance is not None:\n",
    "                pts.append((a, distance))\n",
    "        return pts\n",
    "        \n",
    "\n",
    "# Set the plot size        \n",
    "plt.figure(figsize=(8,8))\n",
    "\n",
    "# Set up a room view with a pi/4 half-angle aperture and 15 angle slices on each side\n",
    "rv = RoomView(room, math.pi/4, 12)\n",
    "\n",
    "# Get the lidar points for a particle facing due East\n",
    "points = rv.lidar_points((10.0,5.0), 0.0)\n",
    "\n",
    "# Unzip the angle-distance tuple\n",
    "a, d = zip(*points)\n",
    "\n",
    "# Plot as a scatter plot\n",
    "plt.scatter(a, d)\n",
    "plt.show()"
   ]
  },
  {
   "cell_type": "markdown",
   "metadata": {
    "collapsed": true
   },
   "source": [
    "Real lidar has a noisy signal.  This is because all measurements have noise.  In our example here, the angle actually has noise because we are reporting a measurement that is not exactly at the angle we were looking.  However, this is not the same type of error that a real lidar has.  Real lidar with have sampled the environment similarly, detecting perhaps the most prominent reflection within the code of the detector.  However, it will also have ambiguity with regard to the reported angle, whereas we have a computed angle with high accuracy.  Moreover, it will have error with regard to the distance, whereas again we have a high accuracy computation.  That said, we will model the error by simply adding error to each measure drawn from an approprate normally distributed noise source."
   ]
  },
  {
   "cell_type": "code",
   "execution_count": 4,
   "metadata": {
    "collapsed": false
   },
   "outputs": [
    {
     "data": {
      "image/png": "[encoded data removed]",
      "text/plain": [
       "<matplotlib.figure.Figure at 0x7fbfa4ea66d8>"
      ]
     },
     "metadata": {},
     "output_type": "display_data"
    }
   ],
   "source": [
    "class LidarNoise(object):\n",
    "    \n",
    "    def __init__(self, angle_std, distance_std):\n",
    "        self.angle_std = angle_std\n",
    "        self.distance_std = distance_std\n",
    "\n",
    "    def add_error(self, view_points):\n",
    "        res = []\n",
    "        for p in view_points:\n",
    "            angle, distance = p\n",
    "            new_angle = angle + np.random.normal(0.0, self.angle_std)\n",
    "            new_distance = distance + np.random.normal(0.0, self.distance_std)\n",
    "            res.append((new_angle, new_distance))\n",
    "        return res\n",
    "    \n",
    "\n",
    "# Set the plot size        \n",
    "plt.figure(figsize=(8,8))\n",
    "\n",
    "# Generate noisy points\n",
    "ln = LidarNoise(0.05, 0.1)\n",
    "noisy_points = ln.add_error(points)\n",
    "\n",
    "# Unzip the angle-distance tuple\n",
    "a, d = zip(*noisy_points)\n",
    "\n",
    "# Plot as a scatter plot\n",
    "plt.scatter(a, d)\n",
    "plt.show()\n"
   ]
  },
  {
   "cell_type": "markdown",
   "metadata": {},
   "source": [
    "Now we can generate a bunch of points in the room that will be used for the particle filter.  These are just random points observing the room in random directions.  The point is, we do not know where the robot is, but if we continually refine information gleened from a bunch of particles that *could* be the robot, we will start knowing where the robot is because the observation from the robot's perspective will coincide with particles that are closest to the robot's location (and oriented in the same direction)."
   ]
  },
  {
   "cell_type": "markdown",
   "metadata": {},
   "source": [
    "First thing we need to do is generate some particles.  We could apply some constraints so that we know that the particles are onle inside the room and not under the table or chairs (supposing the robot cannot go to these places), but this isn't strictly necassary since the particles in these locations will quickly find themselves excluded anyway.  Since the room itself occupies coordinates between the corners `(1.0, 1.0)` and `(15.0, 15.0)`, we will simply fill the space with points in this area without regard for the furniture.  No reason to extend it past the wall confines."
   ]
  },
  {
   "cell_type": "code",
   "execution_count": 5,
   "metadata": {
    "collapsed": false
   },
   "outputs": [
    {
     "data": {
      "image/png": "[encoded data removed]",
      "text/plain": [
       "<matplotlib.figure.Figure at 0x7fbf721c39e8>"
      ]
     },
     "metadata": {},
     "output_type": "display_data"
    }
   ],
   "source": [
    "class Particles(object):\n",
    "    \n",
    "    def __init__(self, num_particles, bounds):\n",
    "        self.num_particles = num_particles\n",
    "        top_left, bottom_right = bounds\n",
    "        self.x_min, self.y_min = top_left\n",
    "        self.x_max, self.y_max = bottom_right\n",
    "        \n",
    "    def generate(self):\n",
    "        res = []\n",
    "        for i in range(self.num_particles):\n",
    "            x = np.random.uniform(self.x_min, self.x_max)\n",
    "            y = np.random.uniform(self.y_min, self.y_max)\n",
    "            res.append((x,y))\n",
    "        return res\n",
    "    \n",
    "    \n",
    "# Set the plot size        \n",
    "plt.figure(figsize=(8,8))    \n",
    "    \n",
    "# Unzip the x-y coordinates of the room\n",
    "x, y = zip(*room)\n",
    "\n",
    "# Plot the points for the room\n",
    "plt.scatter(x, y) \n",
    "\n",
    "# Generate particles\n",
    "p = Particles(250, ((1.,1.), (15.,15.)))\n",
    "ps = p.generate()\n",
    "             \n",
    "# Unzip the point for the particles\n",
    "x, y = zip(*ps)\n",
    "                    \n",
    "# Plot a different color\n",
    "plt.scatter(x, y, color='red') \n",
    "\n",
    "# Plot where our robot is \n",
    "plt.scatter(10.0, 5.0, color='green')\n",
    "\n",
    "# Plot\n",
    "plt.show()"
   ]
  },
  {
   "cell_type": "markdown",
   "metadata": {
    "collapsed": true
   },
   "source": [
    "Now what we need to do is update our `Particles` class so that it has a great deal more functionality.  Rather than just returning a bunch of points bounded by our room, we need to add a direction the point is oriented toward and add enough machinery to our class so that we can evaluate the robot's observed lidar in the context of the particle, compute a weight for each particle, and then be able to filter the particles so that we refine the estimate of position based on the particles by amplifying the better candidates and attenuating the rest.  Moreover, we need a `Particle` class that represents the behaviors of each particle within the context of the group of `Particles`.  We also need to formalize a `Robot` class a bit so that we can use it for dependencies having to do with robot activities. The `Robot` class includes facilities for being able to change the location and direction in the relative sense, and the `Particles` class follows suite on a collection of particles."
   ]
  },
  {
   "cell_type": "code",
   "execution_count": 12,
   "metadata": {
    "collapsed": true
   },
   "outputs": [],
   "source": [
    "class Robot(object):\n",
    "    \n",
    "    def __init__(self, location, direction):\n",
    "        self.location = location\n",
    "        self.direction = direction\n",
    "        \n",
    "    def translate(self, translation):\n",
    "        px, py = self.location\n",
    "        tx, ty = translation\n",
    "        self.location = (px+tx, py+ty)\n",
    "        \n",
    "    def rotate(self, angle):\n",
    "        self.direction += angle\n",
    "        \n",
    "\n",
    "class Particle(object):\n",
    "    \n",
    "    COVAR_RADIUS = 0.05\n",
    "    COVAR_ANGLE = 0.05\n",
    "    \n",
    "    def __init__(self, location, direction):\n",
    "        self.location = location\n",
    "        self.direction = direction\n",
    "        \n",
    "    def translate(self, translation):\n",
    "        px, py = self.location\n",
    "        tx, ty = translation\n",
    "        self.location = (px+tx, py+ty)\n",
    "        \n",
    "    def rotate(self, angle):\n",
    "        self.direction += angle\n",
    "        \n",
    "    def dist(self, p1, p2):\n",
    "        return math.sqrt((p1[0]-p2[0])**2 + (p1[1]-p2[1])**2)\n",
    "    \n",
    "    def robot_cartesian_coordinates(self, lidar_scan, robot):\n",
    "        points = []\n",
    "        rx, ry = robot.location\n",
    "        for p in lidar_scan:\n",
    "            angle, distance = p\n",
    "            x = rx + distance * math.cos(angle)\n",
    "            y = ry + distance * math.sin(angle)\n",
    "            points.append((x,y))\n",
    "        return points\n",
    "    \n",
    "    def transform_coordinates(self, lidar_scan, room, robot):\n",
    "        points = []\n",
    "        robot_cartesian_points = self.robot_cartesian_coordinates(lidar_scan, robot)\n",
    "        pnt_x, pnt_y = self.location\n",
    "        angle = self.direction \n",
    "        for p in robot_cartesian_points:\n",
    "            obs_x, obs_y = p\n",
    "            x = pnt_x + obs_x * math.cos(angle) - obs_y * math.sin(angle)\n",
    "            y = pnt_y + obs_x * math.sin(angle) + obs_y * math.cos(angle)\n",
    "            points.append((x,y))\n",
    "        return points\n",
    "        \n",
    "    def associate_points(self, points, room):\n",
    "        associations = []\n",
    "        for i, p in enumerate(points):\n",
    "            smallest_distance = 1.0e99\n",
    "            for j, r in enumerate(room):\n",
    "                index = 0\n",
    "                d = self.dist(p, r)\n",
    "                if d < smallest_distance:\n",
    "                    smallest_distance = d\n",
    "                    index = j\n",
    "            associations.append((points[i], room[j]))\n",
    "        return associations\n",
    "    \n",
    "    def compute_aggregate_weight(self, associations):\n",
    "        weight = 1.0\n",
    "        mean = [0.0, 0.0]\n",
    "        cov = [[self.COVAR_RADIUS, 0.0],[0.0, self.COVAR_ANGLE]]  \n",
    "        mvn = multivariate_normal(mean=mean, cov=cov)\n",
    "        for a in associations:\n",
    "            point, room = a\n",
    "            px, py = point\n",
    "            rx, ry = room\n",
    "            sx, sy = self.location\n",
    "            dp_x, dp_y = px - sx, py - sy\n",
    "            dr_x, dr_y = rx - sx, ry - sy\n",
    "            radius_p = math.sqrt(dp_x**2 + dp_y**2)\n",
    "            angle_p = math.atan2(dp_y, dp_x)\n",
    "            radius_r = math.sqrt(dr_x**2 + dr_y**2)\n",
    "            angle_r = math.atan2(dr_y, dr_x)\n",
    "            weight *= mvn.pdf([radius_p - radius_r, angle_p - angle_r])\n",
    "        return weight\n",
    "        \n",
    "    def lidar_scan(self, lidar_scan, room, robot):\n",
    "        points = self.transform_coordinates(lidar_scan, room, robot)\n",
    "        associations = self.associate_points(points, room)\n",
    "        return self.compute_aggregate_weight(associations)\n",
    "        \n",
    "    \n",
    "class Particles(object):\n",
    "    \n",
    "    LOCATION_STD = 0.5\n",
    "    DIRECTION_STD = 0.5\n",
    "    \n",
    "    def __init__(self, num_particles, bounds, room, robot):\n",
    "        self.num_particles = num_particles\n",
    "        top_left, bottom_right = bounds\n",
    "        self.x_min, self.y_min = top_left\n",
    "        self.x_max, self.y_max = bottom_right\n",
    "        self.room = room\n",
    "        self.robot = robot\n",
    "        self.intialize()\n",
    "        \n",
    "    def intialize(self):\n",
    "        self.particles = []\n",
    "        for i in range(self.num_particles):\n",
    "            x = np.random.uniform(self.x_min, self.x_max)\n",
    "            y = np.random.uniform(self.y_min, self.y_max)\n",
    "            d = np.random.uniform(0.0, 2 * math.pi)\n",
    "            particle = Particle((x,y), d)\n",
    "            self.particles.append(particle)\n",
    "            \n",
    "    def translate(self, translation):\n",
    "        for p in self.particles:\n",
    "            p.translate(translation)\n",
    "        \n",
    "    def rotate(self, angle):\n",
    "        for p in self.particles:\n",
    "            p.rotate(angle)\n",
    "     \n",
    "    def generate_weights(self, room_view):\n",
    "        weights = []\n",
    "        total_weight = 0.0\n",
    "        for p in self.particles:\n",
    "            weight = p.lidar_scan(room_view, self.room, self.robot)\n",
    "            weights.append(weight)\n",
    "            total_weight += weight\n",
    "        weights = [weight / total_weight for weight in weights]\n",
    "        indices = [i for i, _ in enumerate(weights)]\n",
    "        return (indices, weights)\n",
    "    \n",
    "    def resample_particles(self, indices, weights):\n",
    "        new_particles = []\n",
    "        for i in indices:\n",
    "            selected_index = np.random.choice(indices, p=weights)\n",
    "            particle = self.particles[selected_index]\n",
    "            new_particles.append(particle)\n",
    "        self.particles = new_particles\n",
    "            \n",
    "    def update_weights(self, room_view):\n",
    "        indices, weights = self.generate_weights(room_view)\n",
    "        self.resample_particles(indices, weights)\n",
    "        \n",
    "    def update_positions(self):\n",
    "        for p in self.particles:\n",
    "            x, y = p.location\n",
    "            x += np.random.normal(0.0, self.LOCATION_STD)\n",
    "            y += np.random.normal(0.0, self.LOCATION_STD)\n",
    "            #print(x, y)\n",
    "            p.location = (x,y)\n",
    "            p.direction += np.random.normal(0.0, self.DIRECTION_STD)\n",
    "            \n",
    "    def update(self, room_view):\n",
    "        self.update_weights(room_view)\n",
    "        self.update_positions()\n",
    "        #for p in self.particles:\n",
    "        #    print(p.location)\n",
    "        \n",
    "    def get_particles(self):\n",
    "        return [p.location for p in self.particles]\n",
    "        \n",
    "    def average_particle_position(self):\n",
    "        ps = self.get_particles()\n",
    "        x, y = zip(*ps)\n",
    "        return (np.average(x), np.average(y))    \n",
    "        "
   ]
  },
  {
   "cell_type": "markdown",
   "metadata": {
    "collapsed": true
   },
   "source": [
    "Now all we have to do is make an instance of `Robot` and an instance of `Particles`.  This depends on having the `room` defined, so of course we need to have that.  Now we have a quite easy interface for iterating the process and plotting the particles so that we can see them converge to the robot position."
   ]
  },
  {
   "cell_type": "code",
   "execution_count": null,
   "metadata": {
    "collapsed": false
   },
   "outputs": [],
   "source": [
    "# Create a new robot\n",
    "r = Robot((10.0,5.0),  # Location\n",
    "          0.0)         # Direction\n",
    "\n",
    "# Create a new Particles object\n",
    "p = Particles(100,                  # Number of particles\n",
    "              ((1.,1.),(15.,15.)),  # Room bounds\n",
    "              room,                 # The room\n",
    "              r)                    # Our robot\n",
    "\n",
    "# Update the particles and print them a few times\n",
    "for i in range(25):\n",
    "    p.update(noisy_points)\n",
    "    pos = p.average_particle_position()\n",
    "    print(' - ', pos)\n",
    "\n"
   ]
  },
  {
   "cell_type": "code",
   "execution_count": null,
   "metadata": {
    "collapsed": true
   },
   "outputs": [],
   "source": []
  }
 ],
 "metadata": {
  "anaconda-cloud": {},
  "kernelspec": {
   "display_name": "Python [conda root]",
   "language": "python",
   "name": "conda-root-py"
  },
  "language_info": {
   "codemirror_mode": {
    "name": "ipython",
    "version": 3
   },
   "file_extension": ".py",
   "mimetype": "text/x-python",
   "name": "python",
   "nbconvert_exporter": "python",
   "pygments_lexer": "ipython3",
   "version": "3.5.2"
  }
 },
 "nbformat": 4,
 "nbformat_minor": 1
}
